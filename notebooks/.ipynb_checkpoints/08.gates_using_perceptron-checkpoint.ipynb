{
 "cells": [
  {
   "cell_type": "markdown",
   "metadata": {},
   "source": [
    "# Objective\n",
    "- To understand how to train a McCulloch-Pitts Neuron"
   ]
  },
  {
   "cell_type": "markdown",
   "metadata": {},
   "source": [
    "\n",
    "# Declare inputs and initialise weights\n",
    "- Declare teh input and outputs for a OR gate\n",
    "- Initialise all weighs to zero"
   ]
  },
  {
   "cell_type": "code",
   "execution_count": 5,
   "metadata": {},
   "outputs": [],
   "source": [
    "import numpy as np\n",
    "inputs = np.array([[0,0],[0,1],[1,0],[1,1]])\n",
    "outputs = np.array([0,1,1,1])\n",
    "weights = np.array([0.2,0.8,1.2])\n",
    "lr = 0.25"
   ]
  },
  {
   "cell_type": "markdown",
   "metadata": {},
   "source": [
    "# Train the perceptron \n",
    "- Find the neuron output for each input\n",
    "- Find the error (difference between anticipated output and predicted output)\n",
    "- Update weights of the network based on the update rule"
   ]
  },
  {
   "cell_type": "code",
   "execution_count": 6,
   "metadata": {},
   "outputs": [
    {
     "name": "stdout",
     "output_type": "stream",
     "text": [
      "0.768524783499\n",
      "-0.140895897351\n",
      "-0.223898101719\n",
      "-0.100628035239\n",
      "0.754771442108\n",
      "-0.142349370256\n",
      "-0.2223108392\n",
      "-0.0945439379627\n",
      "0.740838741091\n",
      "-0.143720412175\n",
      "-0.220733304905\n",
      "-0.0888871480386\n",
      "0.726802146688\n",
      "-0.144981905906\n",
      "-0.219128326547\n",
      "-0.0836069173847\n",
      "0.712731360294\n",
      "-0.146114401698\n",
      "-0.21747079412\n",
      "-0.0786643685851\n",
      "0.698689748171\n",
      "-0.147104729496\n",
      "-0.215744840485\n",
      "-0.0740290888708\n",
      "0.684733964332\n",
      "-0.147944859318\n",
      "-0.213941652185\n",
      "-0.0696766931862\n",
      "0.670913781983\n",
      "-0.148630944623\n",
      "-0.212057749124\n",
      "-0.0655870799533\n",
      "0.657272124199\n",
      "-0.149162508734\n",
      "-0.210093623014\n",
      "-0.0617431871559\n",
      "0.643845268673\n",
      "-0.149541749144\n",
      "-0.208052656823\n",
      "-0.0581301118923\n",
      "0.630663192847\n",
      "-0.149772942836\n",
      "-0.205940268319\n",
      "-0.0547344943141\n",
      "0.617750022813\n",
      "-0.149861940326\n",
      "-0.203763234548\n",
      "-0.0515440932886\n",
      "0.605124550506\n",
      "-0.149815738555\n",
      "-0.201529163416\n",
      "-0.0485475000782\n",
      "0.592800787443\n",
      "-0.149642123987\n",
      "-0.199246085197\n",
      "-0.0457339502258\n",
      "0.580788528409\n",
      "-0.149349377996\n",
      "-0.196922141697\n",
      "-0.0430932041766\n",
      "0.569093904123\n",
      "-0.148946037048\n",
      "-0.194565354601\n",
      "-0.0406154749533\n",
      "0.557719907429\n",
      "-0.148440700619\n",
      "-0.192183457621\n",
      "-0.0382913870804\n",
      "0.546666882459\n",
      "-0.147841880235\n",
      "-0.189783779602\n",
      "-0.036111955393\n",
      "0.535932970436\n",
      "-0.147157883507\n",
      "-0.187373167882\n",
      "-0.0340685757098\n",
      "0.525514509125\n",
      "-0.146396727608\n",
      "-0.184957943083\n",
      "-0.0321530218393\n",
      "0.515406385488\n",
      "-0.145566077181\n",
      "-0.182543878013\n",
      "-0.0303574452228\n",
      "0.505602342979\n",
      "-0.144673202302\n",
      "-0.180136194786\n",
      "-0.0286743748582\n",
      "0.496095246141\n",
      "-0.143724952638\n",
      "-0.177739575324\n",
      "-0.0270967160949\n",
      "0.486877305932\n",
      "-0.142727744534\n",
      "-0.175358181424\n",
      "-0.0256177475579\n",
      "0.477940269626\n",
      "-0.141687558221\n",
      "-0.172995681345\n",
      "-0.0242311159074\n",
      "0.469275579211\n",
      "-0.140609942816\n",
      "-0.170655280546\n",
      "-0.0229308284321\n",
      "0.460874502172\n",
      "-0.139500027165\n",
      "-0.168339754743\n",
      "-0.0217112436534\n",
      "0.452728238303\n",
      "-0.138362534961\n",
      "-0.166051483909\n",
      "-0.0205670602177\n",
      "0.444828005951\n",
      "-0.137201802824\n",
      "-0.163792486177\n",
      "-0.0194933043965\n",
      "0.437165110741\n",
      "-0.136021800334\n",
      "-0.161564450919\n",
      "-0.0184853165244\n",
      "0.429730999501\n",
      "-0.134826151189\n",
      "-0.159368770469\n",
      "-0.0175387366872\n",
      "0.422517301809\n",
      "-0.133618154862\n",
      "-0.157206570151\n",
      "-0.0166494899472\n",
      "0.415515861206\n",
      "-0.132400808259\n",
      "-0.155078736402\n",
      "-0.0158137713558\n",
      "0.408718757906\n",
      "-0.131176827022\n",
      "-0.152985942885\n",
      "-0.0150280309657\n",
      "0.402118324516\n",
      "-0.129948666198\n",
      "-0.150928674556\n",
      "-0.0142889590209\n",
      "0.39570715607\n",
      "-0.128718540096\n",
      "-0.148907249714\n",
      "-0.0135934714638\n",
      "0.389478115474\n",
      "-0.127488441188\n",
      "-0.146921840089\n",
      "-0.0129386958732\n",
      "0.38342433529\n",
      "-0.126260157989\n",
      "-0.144972489069\n",
      "-0.0123219579133\n",
      "0.37753921661\n",
      "-0.125035291869\n",
      "-0.143059128165\n",
      "-0.0117407683558\n",
      "0.371816425667\n",
      "-0.123815272782\n",
      "-0.141181591832\n",
      "-0.0111928107138\n",
      "0.366249888704\n",
      "-0.122601373923\n",
      "-0.139339630773\n",
      "-0.0106759295105\n",
      "0.360833785528\n",
      "-0.121394725346\n",
      "-0.137532923834\n",
      "-0.0101881191928\n",
      "0.355562542112\n",
      "-0.120196326569\n",
      "-0.135761088625\n",
      "-0.00972751368966\n"
     ]
    }
   ],
   "source": [
    "while 1:\n",
    "    i = 1\n",
    "    for gt_ip, exp_op in zip(inputs, outputs):\n",
    "        gt_ip = np.insert(gt_ip, 2, 1, axis = 0)\n",
    "        # Concatenate input with biases\n",
    "\n",
    "        # Calculated the wieghted sum of inputs\n",
    "        z = np.inner(gt_ip, weights)\n",
    "        \n",
    "        # Caculate the neuron output\n",
    "        h_theta = 1/ (1 + np.exp(-z))\n",
    "        # Calculate the error\n",
    "        delta = h_theta - exp_op\n",
    "        # Calculate the update for the weights\n",
    "        weights = weights - lr * delta * gt_ip\n",
    "        # Update the weights\n",
    "        print(delta)\n",
    "    i= i+1\n",
    "    if(np.abs(delta) <= 0.01):\n",
    "        break\n",
    "\n",
    "  # Exit loop if no error occured\n"
   ]
  },
  {
   "cell_type": "markdown",
   "metadata": {},
   "source": [
    "# Print the final weights learned by the network\n",
    "- The last term is the bias and other terms are weights of the network"
   ]
  },
  {
   "cell_type": "code",
   "execution_count": 7,
   "metadata": {},
   "outputs": [
    {
     "data": {
      "text/plain": [
       "array([ 2.54084293,  2.70662054, -0.61714602])"
      ]
     },
     "execution_count": 7,
     "metadata": {},
     "output_type": "execute_result"
    }
   ],
   "source": [
    "weights"
   ]
  },
  {
   "cell_type": "code",
   "execution_count": 8,
   "metadata": {},
   "outputs": [
    {
     "name": "stdout",
     "output_type": "stream",
     "text": [
      "[ 0.35043082  0.88987594  0.87255012  0.99034251]\n"
     ]
    }
   ],
   "source": [
    "ip = np.insert(inputs, 2, 1, axis = 1)\n",
    "z = np.dot(ip, weights)\n",
    "h_theta = 1/ (1 + np.exp(-z))\n",
    "print(h_theta)"
   ]
  },
  {
   "cell_type": "code",
   "execution_count": null,
   "metadata": {},
   "outputs": [],
   "source": []
  },
  {
   "cell_type": "code",
   "execution_count": null,
   "metadata": {},
   "outputs": [],
   "source": []
  },
  {
   "cell_type": "code",
   "execution_count": null,
   "metadata": {},
   "outputs": [],
   "source": []
  }
 ],
 "metadata": {
  "kernelspec": {
   "display_name": "Python 3",
   "language": "python",
   "name": "python3"
  },
  "language_info": {
   "codemirror_mode": {
    "name": "ipython",
    "version": 3
   },
   "file_extension": ".py",
   "mimetype": "text/x-python",
   "name": "python",
   "nbconvert_exporter": "python",
   "pygments_lexer": "ipython3",
   "version": "3.6.1"
  }
 },
 "nbformat": 4,
 "nbformat_minor": 2
}
